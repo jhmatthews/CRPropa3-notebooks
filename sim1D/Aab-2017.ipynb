{
 "cells": [
  {
   "cell_type": "markdown",
   "metadata": {},
   "source": [
    "### CR Attenuation, Spectra and Aab et al. 2017\n",
    "\n",
    "This notebook is broadly speaking an attempt to reproduce the results from Aab et al, 2017: https://arxiv.org/abs/1612.07155 \n",
    "\n",
    "A couple of key equations. The first is the modelled \"$J$\" or $dN/dE$, given by, for each atomic species:\n",
    "\n",
    "$J_A = f_A~J_0~\\left( \\frac{E}{10^{18}} \\right)^{-\\gamma}~f_{\\mathrm{cut}} (E, Z_A R_{\\mathrm{cut}})$\n",
    "\n",
    "where $A$ denotes the atomic nucleus, $E$ the energy in eV, $J_0$ the normalisation, and the cutoff function is\n",
    "\n",
    "$f_{\\mathrm{cut}} = \\exp (1- \\frac{E}{Z_A R_{\\mathrm{cut}}})$ for $E>Z_A R_{\\mathrm{cut}}$, and $f_{\\mathrm{cut}}=1$ otherwise. \n",
    "\n",
    "Let's begin by importing some modules."
   ]
  },
  {
   "cell_type": "code",
   "execution_count": 1,
   "metadata": {},
   "outputs": [
    {
     "name": "stderr",
     "output_type": "stream",
     "text": [
      "/System/Library/Frameworks/Python.framework/Versions/2.7/Extras/lib/python/scipy/sparse/csgraph/__init__.py:148: RuntimeWarning: numpy.dtype size changed, may indicate binary incompatibility\n",
      "  from ._shortest_path import shortest_path, floyd_warshall, dijkstra,\\\n",
      "/System/Library/Frameworks/Python.framework/Versions/2.7/Extras/lib/python/scipy/sparse/csgraph/_validation.py:5: RuntimeWarning: numpy.dtype size changed, may indicate binary incompatibility\n",
      "  from ._tools import csgraph_to_dense, csgraph_from_dense,\\\n",
      "/System/Library/Frameworks/Python.framework/Versions/2.7/Extras/lib/python/scipy/sparse/csgraph/__init__.py:150: RuntimeWarning: numpy.dtype size changed, may indicate binary incompatibility\n",
      "  from ._traversal import breadth_first_order, depth_first_order, \\\n",
      "/System/Library/Frameworks/Python.framework/Versions/2.7/Extras/lib/python/scipy/sparse/csgraph/__init__.py:152: RuntimeWarning: numpy.dtype size changed, may indicate binary incompatibility\n",
      "  from ._min_spanning_tree import minimum_spanning_tree\n"
     ]
    }
   ],
   "source": [
    "from crpropa import *\n",
    "import pylab as pl\n",
    "import numpy as np \n",
    "from aab_subroutines import * \n",
    "import matplotlib.pyplot as plt\n",
    "fro\n",
    "%matplotlib inline"
   ]
  },
  {
   "cell_type": "markdown",
   "metadata": {},
   "source": [
    "Now we can define the equations as above and some plotting functions that we'll use later"
   ]
  },
  {
   "cell_type": "code",
   "execution_count": 2,
   "metadata": {},
   "outputs": [],
   "source": [
    "def plot_auger_data():\n",
    "    logE, n, dn1, dn2 = np.loadtxt(\"auger.dat\", unpack=True)\n",
    "\n",
    "    # convert from m^{-2} / s to km^{-2} yr^{-1}\n",
    "    conversion = 1e6 * 3.154e+7 * 1\n",
    "    Elinear = 10.0**logE\n",
    "    y = Elinear**2 * n * conversion\n",
    "    yerr1 = Elinear**2*dn1 * conversion\n",
    "    yerr2 = Elinear**2*dn2 * conversion\n",
    "    #y = n / Elinear\n",
    "    #yerr1 = dn1 / Elinear / y[4]\n",
    "    #yerr2 = dn2 / Elinear / y[4]\n",
    "    pl.errorbar(logE, y, yerr=(yerr1, yerr2), fmt=\"o\", label=\"PAO data\", c=\"k\")\n",
    "    pl.semilogy()\n",
    "    \n",
    "    return (Elinear, y)\n",
    "\n",
    "def add_composition_run(sim, source, Zs, mass, names, fracs, gamma, rcut, num=1e4):\n",
    "    composition = SourceComposition(1 * EeV, (rcut/1e18) * EeV, gamma)\n",
    "    \n",
    "    for i in range(len(Zs)):\n",
    "        composition.add(mass[i], Zs[i],  fracs[i])  # H\n",
    "    source.add( composition )\n",
    "    \n",
    "    # run simulation\n",
    "    sim.setShowProgress(True)\n",
    "    sim.run(source, int(num), True)"
   ]
  },
  {
   "cell_type": "markdown",
   "metadata": {},
   "source": [
    "Now we set up the actual simulation. We follow Aab et al. by using H, He, N, Si and Fe nuclei. We set the abundances of these elements according to their values in table 1 of the paper and set the luminosity weights accordingly too. "
   ]
  },
  {
   "cell_type": "code",
   "execution_count": null,
   "metadata": {},
   "outputs": [
    {
     "name": "stdout",
     "output_type": "stream",
     "text": [
      "[0.01135656 0.17397464 0.53376874 0.28090005 0.        ]\n"
     ]
    }
   ],
   "source": [
    "Zs = [1,2,7,14,26]\n",
    "mass = [1,4,14,28,56]\n",
    "names = [\"H\", \"He\", \"N\", \"Si\", \"Fe\"]\n",
    "#fracs = [0.125,0.586,0.246,0.042,0.0]\n",
    "fracs = [0.064, 0.467, 0.375, 0.094, 0.0]\n",
    "rcut = 10.0**18.66\n",
    "gamma = 0.93\n",
    "\n",
    "# rcut = 10.0**20.51\n",
    "# gamma = 0.96\n",
    "\n",
    "weights = [1.0, 0.328, 0.504, 0.168, 0.0]\n",
    "weights = np.array([fracs[i]*(Zs[i]**(2.0-gamma)) for i in range(len(fracs))])\n",
    "weights /= np.sum(weights)\n",
    "print (weights)\n",
    "\n",
    "fname = \"modela.txt\"\n",
    "sim, source, output = setup_sim(fname, maxdistance=1000)\n",
    "add_composition_run(sim, source, Zs, mass, names, fracs, 1, 5e21, num=1e5)\n",
    "output.close()"
   ]
  },
  {
   "cell_type": "code",
   "execution_count": null,
   "metadata": {},
   "outputs": [],
   "source": [
    "pl.figure(figsize=(20,7))\n",
    "pl.subplot(121)\n",
    "make_plot_input(Zs, names, fracs, gamma, rcut, weights)\n",
    "\n",
    "pl.subplot(122)\n",
    "Elinear, y = plot_auger_data()\n",
    "\n",
    "print y\n",
    "make_plot_observed2(fname, bins=\"auger\", norm=None, rcut=rcut, gamma=gamma, y=y)\n",
    "#pl.ylim(5e35,1e40)\n",
    "pl.xlim(18,20.5)\n",
    "pl.ylim(5e35,1e38)"
   ]
  },
  {
   "cell_type": "markdown",
   "metadata": {},
   "source": [
    "**Caption:** Plot showing the input spectrum (left) and observed spectrum (right) for an isotropic distribution of sources as described in Aab et al. 2017. Compare to: ![](uhecr_spec1.png)\n",
    "\n",
    "Next, we do the same but for the other model with $\\gamma=2.05$."
   ]
  },
  {
   "cell_type": "code",
   "execution_count": null,
   "metadata": {},
   "outputs": [],
   "source": [
    "mysum2 = 0.0\n",
    "Zs2 = [1,2,7,14,26]\n",
    "names2 = [\"H\", \"He\", \"N\", \"Si\", \"Fe\"]\n",
    "fracs2 = [0.0, 0.0, 0.798, 0.202, 0.0]\n",
    "rcut2 = 10.0**19.88\n",
    "gamma2 = 2.04\n",
    "\n",
    "fname = \"modelb.txt\"\n",
    "sim, source, output = setup_sim(fname, maxdistance=1000)\n",
    "add_composition_run(sim, source, Zs2, mass, names2, fracs2, 1, 1e21, num=1e5)\n",
    "output.close()"
   ]
  },
  {
   "cell_type": "code",
   "execution_count": null,
   "metadata": {},
   "outputs": [],
   "source": [
    "pl.figure(figsize=(20,7))\n",
    "pl.subplot(121)\n",
    "make_plot_input(Zs2, names2, fracs2, gamma2, rcut2, weights)\n",
    "\n",
    "pl.subplot(122)\n",
    "Elinear, y = plot_auger_data()\n",
    "make_plot_observed2(fname, bins=\"auger\", norm=None, rcut=rcut, gamma=gamma, y=y)\n",
    "#pl.ylim(5e35,1e40)\n",
    "pl.xlim(18,20.5)\n",
    "pl.ylim(5e35,1e38)\n",
    "#pl.ylim(5e35,1e38)"
   ]
  },
  {
   "cell_type": "markdown",
   "metadata": {},
   "source": [
    "Compare to: ![](uhecr_spec2.png)"
   ]
  },
  {
   "cell_type": "markdown",
   "metadata": {},
   "source": []
  },
  {
   "cell_type": "code",
   "execution_count": null,
   "metadata": {},
   "outputs": [],
   "source": []
  },
  {
   "cell_type": "code",
   "execution_count": null,
   "metadata": {},
   "outputs": [],
   "source": []
  }
 ],
 "metadata": {
  "kernelspec": {
   "display_name": "crpropa",
   "language": "python",
   "name": "crpropa"
  },
  "language_info": {
   "codemirror_mode": {
    "name": "ipython",
    "version": 2
   },
   "file_extension": ".py",
   "mimetype": "text/x-python",
   "name": "python",
   "nbconvert_exporter": "python",
   "pygments_lexer": "ipython2",
   "version": "2.7.10"
  }
 },
 "nbformat": 4,
 "nbformat_minor": 2
}
